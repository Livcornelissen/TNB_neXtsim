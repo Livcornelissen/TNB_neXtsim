{
 "cells": [
  {
   "cell_type": "markdown",
   "id": "ed119200-9d07-437e-add7-fee4023c7253",
   "metadata": {},
   "source": [
    "# Sea ice animation"
   ]
  },
  {
   "cell_type": "code",
   "execution_count": 2,
   "id": "576271d9-3420-43d6-aa7d-2b9cb797868a",
   "metadata": {},
   "outputs": [
    {
     "name": "stdout",
     "output_type": "stream",
     "text": [
      "Collecting celluloid\n",
      "  Downloading celluloid-0.2.0-py3-none-any.whl.metadata (4.8 kB)\n",
      "Requirement already satisfied: matplotlib in /opt/conda/lib/python3.11/site-packages (from celluloid) (3.7.1)\n",
      "Requirement already satisfied: contourpy>=1.0.1 in /opt/conda/lib/python3.11/site-packages (from matplotlib->celluloid) (1.3.2)\n",
      "Requirement already satisfied: cycler>=0.10 in /opt/conda/lib/python3.11/site-packages (from matplotlib->celluloid) (0.12.1)\n",
      "Requirement already satisfied: fonttools>=4.22.0 in /opt/conda/lib/python3.11/site-packages (from matplotlib->celluloid) (4.58.2)\n",
      "Requirement already satisfied: kiwisolver>=1.0.1 in /opt/conda/lib/python3.11/site-packages (from matplotlib->celluloid) (1.4.7)\n",
      "Requirement already satisfied: numpy>=1.20 in /opt/conda/lib/python3.11/site-packages (from matplotlib->celluloid) (1.25.0)\n",
      "Requirement already satisfied: packaging>=20.0 in /opt/conda/lib/python3.11/site-packages (from matplotlib->celluloid) (25.0)\n",
      "Requirement already satisfied: pillow>=6.2.0 in /opt/conda/lib/python3.11/site-packages (from matplotlib->celluloid) (10.0.0)\n",
      "Requirement already satisfied: pyparsing>=2.3.1 in /opt/conda/lib/python3.11/site-packages (from matplotlib->celluloid) (3.2.3)\n",
      "Requirement already satisfied: python-dateutil>=2.7 in /opt/conda/lib/python3.11/site-packages (from matplotlib->celluloid) (2.9.0.post0)\n",
      "Requirement already satisfied: six>=1.5 in /opt/conda/lib/python3.11/site-packages (from python-dateutil>=2.7->matplotlib->celluloid) (1.17.0)\n",
      "Downloading celluloid-0.2.0-py3-none-any.whl (5.4 kB)\n",
      "Installing collected packages: celluloid\n",
      "Successfully installed celluloid-0.2.0\n",
      "\u001b[33mWARNING: Running pip as the 'root' user can result in broken permissions and conflicting behaviour with the system package manager, possibly rendering your system unusable. It is recommended to use a virtual environment instead: https://pip.pypa.io/warnings/venv. Use the --root-user-action option if you know what you are doing and want to suppress this warning.\u001b[0m\u001b[33m\n",
      "\u001b[0mNote: you may need to restart the kernel to use updated packages.\n"
     ]
    }
   ],
   "source": [
    "pip install celluloid"
   ]
  },
  {
   "cell_type": "code",
   "execution_count": 1,
   "id": "e5eb99b1-f197-41d7-8b40-26a95ac8b8ed",
   "metadata": {},
   "outputs": [],
   "source": [
    "\n",
    "from datetime import timedelta, datetime\n",
    "import xarray as xr\n",
    "import numpy as np\n",
    "import matplotlib.pyplot as plt\n",
    "import matplotlib\n",
    "import matplotlib.ticker as mticker\n",
    "\n",
    "from matplotlib.animation import FuncAnimation\n",
    "import matplotlib.animation as animation\n",
    "\n",
    "from IPython.display import HTML\n",
    "\n",
    "import cartopy\n",
    "import cartopy.crs as ccrs\n",
    "from cartopy.mpl.gridliner import LONGITUDE_FORMATTER, LATITUDE_FORMATTER\n",
    "import matplotlib.ticker as mticker\n",
    "import cartopy.feature as cfeature\n",
    "import cmocean\n",
    "import pandas as pd\n",
    "\n",
    "from celluloid import Camera\n",
    "from cftime import num2date"
   ]
  },
  {
   "cell_type": "code",
   "execution_count": 2,
   "id": "62c80662-1809-483b-aea6-24735a17c32f",
   "metadata": {},
   "outputs": [
    {
     "name": "stdout",
     "output_type": "stream",
     "text": [
      "<xarray.Dataset>\n",
      "Dimensions:         (time: 24, ydim: 50, xdim: 100, dg_comp: 6, yvertex: 51,\n",
      "                     xvertex: 101, ncoords: 2, zdim: 3)\n",
      "Coordinates:\n",
      "  * time            (time) float64 1.68e+09 1.68e+09 ... 1.68e+09 1.68e+09\n",
      "Dimensions without coordinates: ydim, xdim, dg_comp, yvertex, xvertex, ncoords,\n",
      "                                zdim\n",
      "Data variables: (12/58)\n",
      "    C_ICE_DG        (time, ydim, xdim, dg_comp) float64 ...\n",
      "    H_ICE_DG        (time, ydim, xdim, dg_comp) float64 ...\n",
      "    OW_STRESS_X     (time, ydim, xdim) float64 ...\n",
      "    OW_STRESS_Y     (time, ydim, xdim) float64 ...\n",
      "    Q_SW_BASE       (time, ydim, xdim) float64 ...\n",
      "    Q_SW_OW         (time, ydim, xdim) float64 ...\n",
      "    ...              ...\n",
      "    v               (time, ydim, xdim) float64 ...\n",
      "    wind_speed      (time, ydim, xdim) float64 ...\n",
      "    wind_u          (time, ydim, xdim) float64 ...\n",
      "    wind_v          (time, ydim, xdim) float64 ...\n",
      "    x               (time, ydim, xdim) float64 ...\n",
      "    y               (time, ydim, xdim) float64 ...\n"
     ]
    }
   ],
   "source": [
    "# Load the NetCDF file\n",
    "ds = xr.open_dataset(\"TNB_windforced_noiceinit_hourly.nc\", group=\"/data\")\n",
    "print(ds)\n",
    "\n",
    "# We (still) need to fetch the mask from the init file\n",
    "\n",
    "mask = xr.open_dataset(\"init_terranova.nc\", group=\"/data\")['mask']\n",
    "land = np.where(mask == 0, 1, np.nan)  # 1 = land, nan = ocean\n",
    "\n",
    "time = ds['time']\n",
    "time_vals = num2date(time.values, units='seconds since 1970-01-01', calendar='gregorian')\n",
    "\n",
    "time_index = 2"
   ]
  },
  {
   "cell_type": "code",
   "execution_count": 9,
   "id": "5b3bdf5f-8bc4-4104-b295-c6d594fdc5c7",
   "metadata": {},
   "outputs": [
    {
     "data": {
      "image/png": "[encoded data removed]",
      "text/plain": [
       "<Figure size 800x400 with 2 Axes>"
      ]
     },
     "metadata": {},
     "output_type": "display_data"
    }
   ],
   "source": [
    "\n",
    "ny, nx = ds['u'].isel(time=0).shape\n",
    "Y, X = np.meshgrid(np.arange(ny), np.arange(nx), indexing='ij')\n",
    "stride = 5\n",
    "\n",
    "fig, ax = plt.subplots(figsize = (8,4))\n",
    "camera = Camera(fig)\n",
    "\n",
    "for time_index in range(len(time)):\n",
    "    var = ds['cice'].isel(time=time_index).isel(dg_comp=0)\n",
    "    p = ax.pcolormesh(var, shading='auto', cmap='cmo.ice', vmin=0, vmax=1)\n",
    "    u = ds['wind_u'].isel(time=time_index)[::stride, ::stride]\n",
    "    v = ds['wind_v'].isel(time=time_index)[::stride, ::stride]\n",
    "    x = X[::stride, ::stride]\n",
    "    y = Y[::stride, ::stride]\n",
    "    \n",
    "    plt.text(.5,1, ds['time'][time_index])\n",
    "    plt.gca().set_aspect('equal')\n",
    "    camera.snap()\n",
    "\n",
    "plt.colorbar(p, label='Sea Ice Concentration', orientation='horizontal')\n",
    "plt.pcolor(land,cmap='Pastel2', vmin = 0, vmax = 1)\n",
    "animation = camera.animate()\n",
    "animation.save('BBM_TNB_windforcednoiceinit_hourly.gif', writer = 'pillow')\n",
    "\n"
   ]
  },
  {
   "cell_type": "code",
   "execution_count": 26,
   "id": "bd45ea7b-9d92-48ae-8156-a25ceed5e07e",
   "metadata": {},
   "outputs": [
    {
     "data": {
      "text/plain": [
       "<matplotlib.collections.PolyCollection at 0x7f75e7748a10>"
      ]
     },
     "execution_count": 26,
     "metadata": {},
     "output_type": "execute_result"
    },
    {
     "data": {
      "image/png": "[encoded data removed]",
      "text/plain": [
       "<Figure size 640x480 with 1 Axes>"
      ]
     },
     "metadata": {},
     "output_type": "display_data"
    }
   ],
   "source": [
    "plt.pcolor(land)"
   ]
  },
  {
   "cell_type": "code",
   "execution_count": 34,
   "id": "de97fc5a-4279-431e-a572-6bd766fb7d70",
   "metadata": {},
   "outputs": [
    {
     "data": {
      "image/png": "[encoded data removed]",
      "text/plain": [
       "<Figure size 800x400 with 2 Axes>"
      ]
     },
     "metadata": {},
     "output_type": "display_data"
    }
   ],
   "source": [
    "fig, ax = plt.subplots(figsize = (8,4))\n",
    "camera = Camera(fig)\n",
    "\n",
    "for time_index in range(len(time)):\n",
    "    var = ds['hice'].isel(time=time_index).isel(dg_comp=0)\n",
    "    p = ax.pcolormesh(var, shading='auto', cmap='cmo.ice', vmin=0, vmax=.5)\n",
    "    \n",
    "    plt.gca().set_aspect('equal')\n",
    "    camera.snap()\n",
    "\n",
    "plt.colorbar(p, label='Sea Ice Concentration', orientation='horizontal')\n",
    "plt.pcolor(land,cmap='Pastel2', vmin = 0, vmax = 1)\n",
    "\n",
    "animation = camera.animate()\n",
    "animation.save('BBM_TNB_190Chice.gif', writer = 'pillow')\n"
   ]
  },
  {
   "cell_type": "code",
   "execution_count": null,
   "id": "9deec57a-487e-4700-b39a-228ee3c4c82b",
   "metadata": {},
   "outputs": [],
   "source": []
  }
 ],
 "metadata": {
  "kernelspec": {
   "display_name": "Python 3 (ipykernel)",
   "language": "python",
   "name": "python3"
  },
  "language_info": {
   "codemirror_mode": {
    "name": "ipython",
    "version": 3
   },
   "file_extension": ".py",
   "mimetype": "text/x-python",
   "name": "python",
   "nbconvert_exporter": "python",
   "pygments_lexer": "ipython3",
   "version": "3.11.9"
  }
 },
 "nbformat": 4,
 "nbformat_minor": 5
}
